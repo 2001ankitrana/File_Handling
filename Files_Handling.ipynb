{
  "nbformat": 4,
  "nbformat_minor": 0,
  "metadata": {
    "colab": {
      "provenance": []
    },
    "kernelspec": {
      "name": "python3",
      "display_name": "Python 3"
    },
    "language_info": {
      "name": "python"
    }
  },
  "cells": [
    {
      "cell_type": "markdown",
      "source": [
        "1/ Discuss the scenerios where multithreading preferable to multiprocessing and scenerios where multiprocessing is a better choice."
      ],
      "metadata": {
        "id": "U3qclH_bIpz2"
      }
    },
    {
      "cell_type": "markdown",
      "source": [
        "Multithreading is preferable in the folliwing scenerios:\n",
        "\n",
        "1- I/O-boung tasks: when a program spends most of its time waiting for input/output opreations,multithreading is a good choice.\n",
        "\n",
        "2: sharing data between tasks: threads within the same process share the same memory space,making data sharing between them easier and faster.\n",
        "\n",
        "3- Task with low CPU usage: if the tasks are not CPU-intensive and don't require a lot of processing power,multitheading can be sufficient for achieving concurrency.\n",
        "\n",
        "Multoprocessing is preferable in following scenarios;\n",
        "\n",
        "1- CPU-bound tasks: if the program involves a lot of computation and needs to utilize multiple CPU cores,multiprocessing is a better choice.\n",
        "\n",
        "2: Avoiding the GIL limitations- In CPython the global interpreter lock prevents multiple threads from executing python bytecodes simultaneously,multiprocessing bypasses the GIL by using seperate processes.\n",
        "\n"
      ],
      "metadata": {
        "id": "HDwvyyAirX8Q"
      }
    },
    {
      "cell_type": "markdown",
      "source": [
        "2/ Describe what a process pool is and how it help in managing multiple processes efficiently."
      ],
      "metadata": {
        "id": "Z3aSgXHReBaX"
      }
    },
    {
      "cell_type": "markdown",
      "source": [
        "- A process pool is a programming pattern used for managing a collection of worker processes.It's essentially a container that holds a fixed number of processes, ready to execute tasks. These processes are pre-created when you create the pool and remain alive,waiting for instructions. When a new task is submitted to the pool,one of the available processes in the pool picks it up and executes it.\n",
        "\n",
        "How process pools improve efficiency:\n",
        "\n",
        "1- Reduced process certain overhead\n",
        "\n",
        "2- Controlled resource usage\n",
        "\n",
        "3- Task distribution and parallelism\n",
        "\n",
        "4- Simplified task management\n"
      ],
      "metadata": {
        "id": "gKe-h0zdxmhl"
      }
    },
    {
      "cell_type": "markdown",
      "source": [
        "3/ Explain what multiprocessing is and why it is used in python programs."
      ],
      "metadata": {
        "id": "r5ri7vIkeRwg"
      }
    },
    {
      "cell_type": "markdown",
      "source": [
        "Multiprocessing is a way to run multiple processes simultaneously pin python, each process has its own memory space and python interpreter,allowing true parallelism and better utilization of multi-core CPUs,this is different from multithreading, where threads share the same memory space with in a single process.\n",
        "\n",
        "\n",
        "It is used in python programs for following reasons-\n",
        "\n",
        "\n",
        "1- Improved performance for CPU-bound tasks\n",
        "\n",
        "2- Bypassing the global interpreter lock\n",
        "\n",
        "3- Increase fault tolerence\n",
        "\n",
        "4- Resource Management"
      ],
      "metadata": {
        "id": "0ksIpzlO70lP"
      }
    },
    {
      "cell_type": "markdown",
      "source": [
        "4/ Python program using multithreading where one thread adds numbers to a list, and another thread removes numbers from the list.Implement a mechanism to avoid race conditions using threading.lock."
      ],
      "metadata": {
        "id": "7hid57CMee2F"
      }
    },
    {
      "cell_type": "code",
      "source": [
        "import threading\n",
        "import time\n",
        "import random\n",
        "\n",
        "shared_list = []\n",
        "lock = threading.Lock()\n",
        "\n",
        "def add_numbers():\n",
        "    for i in range(10):\n",
        "        with lock:\n",
        "           number = random.randint(1, 10)\n",
        "           shared_list.append(number)\n",
        "           print(f\"Added: {number}\")\n",
        "           time.sleep(0.1)\n",
        "\n",
        "def remove_numbers():\n",
        "    for _  in range(10):\n",
        "        with lock:\n",
        "            if shared_list:\n",
        "                number = shared_list.pop(0)\n",
        "                print(f\"Removed: {number}\")\n",
        "            else:\n",
        "                print(\"List is empty\")\n",
        "        time.sleep(0.2)\n",
        "\n",
        "if __name__ == \"__main__\":\n",
        "\n",
        "    add_thread = threading.Thread(target=add_numbers)\n",
        "    remove_thread = threading.Thread(target=remove_numbers)\n",
        "\n",
        "\n",
        "    add_thread.start()\n",
        "    remove_thread.start()\n",
        "\n",
        "    add_thread.join()\n",
        "    remove_thread.join()\n",
        "\n",
        "    print(\"Final list:\", shared_list)\n",
        "\n",
        "\n",
        "    add_thread\n",
        "\n"
      ],
      "metadata": {
        "colab": {
          "base_uri": "https://localhost:8080/"
        },
        "id": "jNu19uHF-blc",
        "outputId": "cf8c886a-e97e-4a4a-d834-cf0989b9e80d"
      },
      "execution_count": null,
      "outputs": [
        {
          "output_type": "stream",
          "name": "stdout",
          "text": [
            "Added: 3\n",
            "Added: 9\n",
            "Added: 1\n",
            "Added: 5\n",
            "Added: 2\n",
            "Added: 1\n",
            "Added: 7\n",
            "Added: 10\n",
            "Added: 9\n",
            "Added: 2\n",
            "Removed: 3\n",
            "Removed: 9\n",
            "Removed: 1\n",
            "Removed: 5\n",
            "Removed: 2\n",
            "Removed: 1\n",
            "Removed: 7\n",
            "Removed: 10\n",
            "Removed: 9\n",
            "Removed: 2\n",
            "Final list: []\n"
          ]
        }
      ]
    },
    {
      "cell_type": "markdown",
      "source": [
        "5/ Describe the methods and tools available in python for safely sharing data between threads and processes."
      ],
      "metadata": {
        "id": "kPWi1zIbfLaE"
      }
    },
    {
      "cell_type": "markdown",
      "source": [
        "1: Threading.Lock- This is the most fundamental synchronization primitive in python's threading module,a lock can be acquired by one thread at a time,preventing other threads from accessing shared data simultaneously.\n",
        "\n",
        "2: Queue- The queue module in python provides threadsafe queue that can be used to exchange data between threads. A producer thread can put items into the queue and consumer thread can get items from it.Queue handle synchronization internally, making them a convenient way to share data without race conditions.\n",
        "\n",
        "Between Processes\n",
        "\n",
        "\n",
        "1- multiprocessing.Queue: it provides a queue class for sharing data between processes, it designed for inter-process communication and handles data serialization and deserialization internally.\n",
        "\n",
        "2- multiprocessing.Pipe: it allow twp processes to communicate directly through a connection object, it's suitable for bidirectional communication and can be more efficient than queues for certain use cases."
      ],
      "metadata": {
        "id": "DUOgBuAyBWYP"
      }
    },
    {
      "cell_type": "markdown",
      "source": [
        "6/ Discuss why it is crucial to handle exception in concurrent programs and the techniques available for doing so."
      ],
      "metadata": {
        "id": "2wROE5ISfcb9"
      }
    },
    {
      "cell_type": "markdown",
      "source": [
        "In concurrent programs, multiple threads or processes execute simultaneously,often sharing resources and interacting with each other.This introduce complexities that cab lead to unexpected errors and exception.\n",
        "\n",
        "1- Preventing program crashes\n",
        "\n",
        "2-Maintaining data integrity\n",
        "\n",
        "3-Debugging and Diagnostics\n",
        "\n",
        "\n",
        "Techniques for handeling exceptions in concurrent programs-\n",
        "\n",
        "1- Using try-except Blocks with threads/processes\n",
        "\n",
        "2-concurrent.futures Exception Handlong\n",
        "\n",
        "3-Custom Exception handling with queues\n"
      ],
      "metadata": {
        "id": "EJy0yJHnrh2K"
      }
    },
    {
      "cell_type": "markdown",
      "source": [
        "7/ Create a program that uses a thread pool to calculate the factorial of numbers from 1 to 10 concurrently. Use concurrent.threadpool executor to manage the threads."
      ],
      "metadata": {
        "id": "zlJsYIqKfvFl"
      }
    },
    {
      "cell_type": "code",
      "source": [
        "import concurrent.futures\n",
        "import math\n",
        "\n",
        "def factorial(n):\n",
        "    \"\"\"Calculate the factorial of a number.\"\"\"\n",
        "    return math.factorial(n)\n",
        "\n",
        "def main():\n",
        "    \"\"\"Calculates factorials concurrently using a thread pool.\"\"\"\n",
        "    numbers = range(1, 11)\n",
        "\n",
        "    with concurrent.futures.ThreadPoolExecutor() as executor:\n",
        "        results = executor.map(factorial, numbers)\n",
        "\n",
        "\n",
        "if __name__ == \"__main__\":\n",
        "  main()\n",
        "\n",
        "\n",
        "\n",
        "\n"
      ],
      "metadata": {
        "id": "cvYn2DIaBZJJ"
      },
      "execution_count": null,
      "outputs": []
    },
    {
      "cell_type": "markdown",
      "source": [
        "8/ Create python program that uses multiprocessing.pool to compute the square of numbers from 1 to 10 in parallel, measure the time taken to perform this comutation using a pool of different sizes(eg.2,4,8 processes)."
      ],
      "metadata": {
        "id": "2x3iREsRgMy6"
      }
    },
    {
      "cell_type": "code",
      "source": [
        "import multiprocessing\n",
        "import time\n",
        "\n",
        "def square(n):\n",
        "    \"\"\"Calculate the square of a number.\"\"\"\n",
        "    return n * n\n",
        "\n",
        "def main():\n",
        "    \"\"\"Computes squares in parallel using different pool sizes.\"\"\"\n",
        "    numbers = range(1, 11)\n",
        "    pool_sizes = [2, 4, 8]\n",
        "\n",
        "    for pool_size in pool_sizes:\n",
        "        start_time = time.time()\n",
        "        with multiprocessing.Pool(processes=pool_size) as pool:\n",
        "            results = pool.map(square, numbers)\n",
        "        end_time = time.time()\n",
        "        print(f\"Pool size: {pool_size}, Time taken: {end_time - start_time} seconds\")\n",
        "\n",
        "if __name__ == \"__main__\":\n",
        "    main()\n",
        "\n",
        "\n",
        "\n",
        "\n",
        "\n",
        "\n"
      ],
      "metadata": {
        "colab": {
          "base_uri": "https://localhost:8080/"
        },
        "id": "oep5630dlLXI",
        "outputId": "d8064e8e-9d9d-45d4-c970-771c8b7031d3"
      },
      "execution_count": null,
      "outputs": [
        {
          "output_type": "stream",
          "name": "stdout",
          "text": [
            "Pool size: 2, Time taken: 0.05001711845397949 seconds\n",
            "Pool size: 4, Time taken: 0.05727434158325195 seconds\n",
            "Pool size: 8, Time taken: 0.0871732234954834 seconds\n"
          ]
        }
      ]
    },
    {
      "cell_type": "code",
      "source": [],
      "metadata": {
        "id": "_YVxehqznfPd"
      },
      "execution_count": null,
      "outputs": []
    }
  ]
}